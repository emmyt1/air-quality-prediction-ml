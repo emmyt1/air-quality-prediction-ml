{
 "cells": [
  {
   "cell_type": "markdown",
   "id": "ff1dc2aa-1165-44df-88ad-704d2e9fb3de",
   "metadata": {},
   "source": [
    "## 📊 Air Quality Prediction Starter Notebook 🌱—\n",
    "By Olubunmi Oluwaseun\n",
    "\n",
    "Welcome to the Air Quality Prediction Competition! Here's what you'll find:\n",
    "\n",
    "- **Step 1: Understand the Dataset**\n",
    "- **Step 2: Load and Inspect the Data**\n",
    "- **Step 3: Exploratory Data Analysis**\n",
    "- **Step 4: Feature Engineering**\n",
    "- **Step 5: Train-Validation Split**\n",
    "- **Step 6: Baseline Modeling**\n",
    "- **Step 7: Advanced Modeling**\n",
    "- **Step 8: Validation & Cross-Validation**\n",
    "- **Step 9: Generate Predictions**\n",
    "- **Step 10: Submission**"
   ]
  },
  {
   "cell_type": "markdown",
   "id": "9fc535f8-0c91-4f5d-90af-cce1a3cc12ae",
   "metadata": {},
   "source": [
    "## Step 1: Understand the Dataset\n",
    "We have:\n",
    "\n",
    "**1. Training Data (Train.csv):**\n",
    "- Contains sensor readings (Temperature, Humidity, MQ7_analog, MQ9_analog, MG811_analog, MQ135_analog) and the corresponding CO2 levels (CO2).\n",
    "- Also includes a column for the device name (device_name), which is always \"alpha\" in the provided data.\n",
    "\n",
    "**2. Test Data (test.csv):**\n",
    "- Contains only sensor readings (no CO2 values).\n",
    "- Used to generate predictions for submission.\n",
    "\n",
    "**3. Sample Submission (SampleSubmission.csv):**\n",
    "- A template for the submission file with ID and CO2 columns.\n",
    "- All CO2 values are initialized to 0.\n",
    "\n",
    "**4. Variable Descriptions (Variable Description.csv):**\n",
    "- Provides details about each feature in the dataset."
   ]
  },
  {
   "cell_type": "markdown",
   "id": "496520b7-d563-4cfe-a87d-449dc350c303",
   "metadata": {},
   "source": [
    "## Importing Libraries\n",
    "In this section, we import the essential libraries needed for data analysis, visualization, and modeling:\n",
    "\n",
    "- `pandas`: For data manipulation and analysis 🐼.\n",
    "- `numpy`: For numerical computations 🔢.\n",
    "- `matplotlib.pyplot`: To create static, interactive, and publication-quality visualizations 📊.\n",
    "- `seaborn`: For beautiful and informative statistical graphics 🎨.\n",
    "- `sklearn.model_selection`: To split the data into training and validation sets 🎯.\n",
    "- `sklearn.ensemble.RandomForestRegressor`: A robust machine learning algorithm for regression tasks 🌳.\n",
    "- `sklearn.metrics.mean_squared_error`: To evaluate the performance of our model using RMSE 📏.\n",
    "- `xgboost`: For gradient boosting regression\n",
    "  \n",
    "These libraries form the backbone of our analysis and modeling pipeline. Let's get started!"
   ]
  },
  {
   "cell_type": "code",
   "execution_count": 4,
   "id": "34d07727-1e56-48b2-9eb7-68d4b7de6383",
   "metadata": {},
   "outputs": [],
   "source": [
    "import pandas as pd\n",
    "import numpy as np\n",
    "import matplotlib.pyplot as plt\n",
    "import seaborn as sns\n",
    "\n",
    "from sklearn.model_selection import train_test_split, cross_val_score, KFold\n",
    "from sklearn.ensemble import RandomForestRegressor\n",
    "from sklearn.linear_model import LinearRegression\n",
    "from sklearn.metrics import mean_squared_error\n",
    "from xgboost import XGBRegressor"
   ]
  },
  {
   "cell_type": "markdown",
   "id": "248833da-3b93-42c2-b121-7cc3246c3a30",
   "metadata": {},
   "source": [
    "# Step 2: Load and Inspect the Data\n",
    "Let’s load the datasets and inspect their structure."
   ]
  },
  {
   "cell_type": "code",
   "execution_count": 6,
   "id": "c1e8ab64-63fd-44ce-9c41-d943605297bf",
   "metadata": {},
   "outputs": [
    {
     "name": "stdout",
     "output_type": "stream",
     "text": [
      "Training Data:\n",
      "          ID  Temperature  Humidity  MQ7_analog  MQ9_analog  MG811_analog  \\\n",
      "0  ID_000001       28.975    74.475      2480.0      3476.5        1572.0   \n",
      "1  ID_000002       31.900    66.500      3813.0      2726.0        4145.0   \n",
      "2  ID_000003       31.675    60.015      2811.0      1563.5        4250.0   \n",
      "3  ID_000004       31.580    59.220      2844.0      1597.0        4310.0   \n",
      "4  ID_000005       31.690    62.030      3159.5      1120.5        5519.5   \n",
      "\n",
      "   MQ135_analog device_name     CO2  \n",
      "0        1997.0       alpha  585.75  \n",
      "1        3180.0       alpha  613.00  \n",
      "2        2708.5       alpha  616.50  \n",
      "3        2723.0       alpha  642.50  \n",
      "4        1219.0       alpha  622.00  \n",
      "<class 'pandas.core.frame.DataFrame'>\n",
      "RangeIndex: 7307 entries, 0 to 7306\n",
      "Data columns (total 9 columns):\n",
      " #   Column        Non-Null Count  Dtype  \n",
      "---  ------        --------------  -----  \n",
      " 0   ID            7307 non-null   object \n",
      " 1   Temperature   7307 non-null   float64\n",
      " 2   Humidity      7307 non-null   float64\n",
      " 3   MQ7_analog    7307 non-null   float64\n",
      " 4   MQ9_analog    7307 non-null   float64\n",
      " 5   MG811_analog  7307 non-null   float64\n",
      " 6   MQ135_analog  7307 non-null   float64\n",
      " 7   device_name   7307 non-null   object \n",
      " 8   CO2           7307 non-null   float64\n",
      "dtypes: float64(7), object(2)\n",
      "memory usage: 513.9+ KB\n",
      "None\n",
      "       Temperature     Humidity   MQ7_analog    MQ9_analog  MG811_analog  \\\n",
      "count  7307.000000  7307.000000  7307.000000   7307.000000   7307.000000   \n",
      "mean     29.681726    69.593742  4230.820902   3976.708841   3995.126568   \n",
      "std       2.016785     7.248136  1085.008100   1603.972744   1098.740604   \n",
      "min      23.440000    52.200000  2380.000000   1098.500000   1353.500000   \n",
      "25%      28.490000    65.665000  3362.500000   2832.500000   3181.000000   \n",
      "50%      29.290000    70.555000  4061.000000   4073.000000   4137.000000   \n",
      "75%      31.717500    74.350000  4780.750000   5286.166667   4731.000000   \n",
      "max      33.850000    93.525000  9545.500000  10379.500000   7919.000000   \n",
      "\n",
      "       MQ135_analog          CO2  \n",
      "count   7307.000000  7307.000000  \n",
      "mean    3444.788240   611.634608  \n",
      "std      893.426679    16.540953  \n",
      "min     1186.500000   573.166667  \n",
      "25%     2912.500000   600.000000  \n",
      "50%     3586.500000   608.000000  \n",
      "75%     4143.750000   621.000000  \n",
      "max     6257.000000   677.000000  \n",
      "\n",
      "Test Data:\n",
      "          ID  Temperature  Humidity  MQ7_analog  MQ9_analog  MG811_analog  \\\n",
      "0  ID_007308       32.450    59.990      3504.0      1380.0        2642.5   \n",
      "1  ID_007309       31.665    58.640      2864.0      1659.0        4456.0   \n",
      "2  ID_007310       31.755    59.000      2850.5      1615.0        4391.0   \n",
      "3  ID_007311       31.860    66.850      3853.5      2868.5        4170.5   \n",
      "4  ID_007312       29.600    73.115      2506.5      3631.5        1481.5   \n",
      "\n",
      "   MQ135_analog device_name  \n",
      "0        1637.0       alpha  \n",
      "1        3564.5       alpha  \n",
      "2        2683.5       alpha  \n",
      "3        3025.5       alpha  \n",
      "4        2112.5       alpha  \n",
      "<class 'pandas.core.frame.DataFrame'>\n",
      "RangeIndex: 1292 entries, 0 to 1291\n",
      "Data columns (total 8 columns):\n",
      " #   Column        Non-Null Count  Dtype  \n",
      "---  ------        --------------  -----  \n",
      " 0   ID            1292 non-null   object \n",
      " 1   Temperature   1292 non-null   float64\n",
      " 2   Humidity      1292 non-null   float64\n",
      " 3   MQ7_analog    1292 non-null   float64\n",
      " 4   MQ9_analog    1292 non-null   float64\n",
      " 5   MG811_analog  1292 non-null   float64\n",
      " 6   MQ135_analog  1292 non-null   float64\n",
      " 7   device_name   1292 non-null   object \n",
      "dtypes: float64(6), object(2)\n",
      "memory usage: 80.9+ KB\n",
      "None\n",
      "       Temperature     Humidity   MQ7_analog    MQ9_analog  MG811_analog  \\\n",
      "count  1292.000000  1292.000000  1292.000000   1292.000000   1292.000000   \n",
      "mean     29.686183    69.436179  4188.735423   3921.648220   3941.450206   \n",
      "std       2.006444     7.200404  1078.636054   1602.971452   1074.327352   \n",
      "min      23.480000    52.235000  2399.500000   1100.000000   1353.000000   \n",
      "25%      28.438750    65.106250  3348.250000   2776.625000   3178.375000   \n",
      "50%      29.272500    70.652500  4041.500000   4060.000000   4118.500000   \n",
      "75%      31.750000    74.260000  4732.625000   5220.125000   4640.500000   \n",
      "max      33.820000    92.625000  9414.500000  10433.000000   7272.000000   \n",
      "\n",
      "       MQ135_analog  \n",
      "count   1292.000000  \n",
      "mean    3399.566047  \n",
      "std      897.210017  \n",
      "min     1195.000000  \n",
      "25%     2892.250000  \n",
      "50%     3580.000000  \n",
      "75%     4108.750000  \n",
      "max     6285.000000  \n",
      "\n",
      "Sample Submission:\n",
      "          ID  CO2\n",
      "0  ID_007308    0\n",
      "1  ID_007309    0\n",
      "2  ID_007310    0\n",
      "3  ID_007311    0\n",
      "4  ID_007312    0\n"
     ]
    }
   ],
   "source": [
    "# Load datasets\n",
    "train_data = pd.read_csv('Train.csv')\n",
    "test_data = pd.read_csv('test.csv')\n",
    "sample_submission = pd.read_csv('SampleSubmission.csv')\n",
    "\n",
    "# Inspect training data\n",
    "print(\"Training Data:\")\n",
    "print(train_data.head())\n",
    "print(train_data.info())\n",
    "print(train_data.describe())\n",
    "\n",
    "# Inspect test data\n",
    "print(\"\\nTest Data:\")\n",
    "print(test_data.head())\n",
    "print(test_data.info())\n",
    "print(test_data.describe())\n",
    "\n",
    "# Inspect sample submission\n",
    "print(\"\\nSample Submission:\")\n",
    "print(sample_submission.head())"
   ]
  },
  {
   "cell_type": "markdown",
   "id": "4e1e935a-2468-40cd-b8ce-08ad6f64e44f",
   "metadata": {},
   "source": [
    "## Step 3: Exploratory Data Analysis (EDA)\n",
    "We’ll perform EDA to understand the data better. Key steps include:\n",
    "\n",
    "**Check for Missing Values:**\n",
    "- Identify any missing or null values in the dataset.\n",
    "  \n",
    "**Visualize Distributions:**\n",
    "- Plot a histogram of the CO2 values with a KDE (Kernel Density Estimate) overlay for smoother insights.\n",
    "  \n",
    "**Correlation Analysis:**\n",
    "- Compute correlations between features and the target variable (CO2)."
   ]
  },
  {
   "cell_type": "code",
   "execution_count": 8,
   "id": "ff463ba3-dd23-4248-8c52-9c2e3f8d16d0",
   "metadata": {
    "scrolled": true
   },
   "outputs": [
    {
     "name": "stdout",
     "output_type": "stream",
     "text": [
      "Missing Values in Training Data:\n",
      "ID              0\n",
      "Temperature     0\n",
      "Humidity        0\n",
      "MQ7_analog      0\n",
      "MQ9_analog      0\n",
      "MG811_analog    0\n",
      "MQ135_analog    0\n",
      "device_name     0\n",
      "CO2             0\n",
      "dtype: int64\n",
      "\n",
      "Missing Values in Test Data:\n",
      "ID              0\n",
      "Temperature     0\n",
      "Humidity        0\n",
      "MQ7_analog      0\n",
      "MQ9_analog      0\n",
      "MG811_analog    0\n",
      "MQ135_analog    0\n",
      "device_name     0\n",
      "dtype: int64\n"
     ]
    }
   ],
   "source": [
    "# Check for missing values\n",
    "print(\"Missing Values in Training Data:\")\n",
    "print(train_data.isnull().sum())\n",
    "print(\"\\nMissing Values in Test Data:\")\n",
    "print(test_data.isnull().sum())"
   ]
  },
  {
   "cell_type": "markdown",
   "id": "2ed77f4b-3aad-4ed8-89d0-beaa7a7d7fc5",
   "metadata": {
    "jp-MarkdownHeadingCollapsed": true
   },
   "source": [
    "## 📈 Target Variable Distribution\n",
    "\n",
    "Let's visualize the distribution of the target variable, **CO2**, to understand its behavior:\n",
    "\n",
    "- **`sns.histplot()`**: Creates a histogram of the `CO2` values with a KDE (Kernel Density Estimate) overlay for smoother insights 📊.\n",
    "- **Customization**:\n",
    "  - Adjusts figure size for better clarity 🖼️.\n",
    "  - Adds labels and a title to make the plot informative ✍️.\n",
    "\n",
    "This plot reveals key insights about the variability and skewness of CO2 levels, guiding our modeling decisions. 🎯"
   ]
  },
  {
   "cell_type": "code",
   "execution_count": 10,
   "id": "2ff5ba0a-9fe8-4a77-9e63-0d23d1b2b3bf",
   "metadata": {},
   "outputs": [
    {
     "name": "stderr",
     "output_type": "stream",
     "text": [
      "C:\\Users\\EELAR\\anaconda3\\Lib\\site-packages\\seaborn\\_oldcore.py:1119: FutureWarning: use_inf_as_na option is deprecated and will be removed in a future version. Convert inf values to NaN before operating instead.\n",
      "  with pd.option_context('mode.use_inf_as_na', True):\n"
     ]
    },
    {
     "data": {
      "image/png": "[encoded data removed]",
      "text/plain": [
       "<Figure size 1000x800 with 1 Axes>"
      ]
     },
     "metadata": {},
     "output_type": "display_data"
    }
   ],
   "source": [
    "# Visualize distributions\n",
    "plt.figure(figsize=(10, 8))\n",
    "sns.histplot(train_data['CO2'], bins=50, kde=True)\n",
    "plt.title('Distribution of CO2 Levels')\n",
    "plt.xlabel('CO2')\n",
    "plt.ylabel('Frequency')\n",
    "plt.show()"
   ]
  },
  {
   "cell_type": "markdown",
   "id": "c853e209-92ea-46d9-87b8-7f52910ca507",
   "metadata": {
    "jp-MarkdownHeadingCollapsed": true
   },
   "source": [
    "## 🔗 Correlation Analysis 🔍\n",
    "\n",
    "Here, we examine the relationships between numerical features in the dataset:\n",
    "\n",
    "- **`train_data.select_dtypes(include=['float64', 'int64']).corr()`**:  Filters the DataFrame `train_data` to include only the columns with data types `float64` and `int64`and computes pairwise correlations between features.\n",
    "- **`sns.heatmap()`**: Visualizes the correlations in a heatmap for easy interpretation.\n",
    "  - **`annot=False`**: Keeps the heatmap uncluttered by excluding correlation values.\n",
    "  - **`cmap='coolwarm'`**: Uses a visually appealing color scheme.\n",
    "- **Customization**: Adjusts figure size and adds a title for clarity.\n",
    "\n",
    "This step helps us identify highly correlated features, which can influence feature selection and model performance. 🚀"
   ]
  },
  {
   "cell_type": "code",
   "execution_count": 12,
   "id": "6d96e4dd-938b-4925-8550-c27982db3d15",
   "metadata": {},
   "outputs": [
    {
     "data": {
      "image/png": "[encoded data removed]",
      "text/plain": [
       "<Figure size 1000x800 with 2 Axes>"
      ]
     },
     "metadata": {},
     "output_type": "display_data"
    }
   ],
   "source": [
    "# Correlation heatmap\n",
    "correlation_matrix = train_data.select_dtypes(include=['float64', 'int64']).corr()  # Only include numeric columns\n",
    "plt.figure(figsize=(10, 8))\n",
    "sns.heatmap(correlation_matrix, annot=True, cmap='coolwarm')\n",
    "plt.title('Feature Correlations')\n",
    "plt.show()"
   ]
  },
  {
   "cell_type": "markdown",
   "id": "6c3699ee-eb70-4dd4-9450-885b609bc40e",
   "metadata": {},
   "source": [
    "# Step 4: Feature Engineering\n",
    "Based on the variable descriptions, we can create new features to improve model performance. For example:\n",
    "\n",
    "**Ratios:**\n",
    "- Combine sensor readings to capture relationships (e.g., MQ7_analog / MQ9_analog). To prevent division by zero errors, a small constant (`1e-6`) is added to the denominator (`train_data['MQ9_analog']`). This ensures that if `'MQ9_analog'` is zero, the denominator will not be zero, thus avoiding any potential runtime errors.\n",
    "  \n",
    "**Differences:**\n",
    "- Compute differences between sensor readings (e.g., MG811_analog - MQ135_analog).\n",
    "  \n",
    "**Interaction Features:**\n",
    "- Multiply or divide features to capture non-linear relationships."
   ]
  },
  {
   "cell_type": "code",
   "execution_count": 14,
   "id": "d894001a-1008-42fe-bce8-94f5e03ab663",
   "metadata": {},
   "outputs": [],
   "source": [
    "# Example: Create interaction features\n",
    "train_data['Alpha_Beta_Ratio'] = train_data['MQ7_analog'] / (train_data['MQ9_analog'] + 1e-6)\n",
    "train_data['Beta_Charlie_Diff'] = train_data['MQ9_analog'] - train_data['MG811_analog']\n",
    "train_data['MG811_MQ135_Diff'] = train_data['MG811_analog'] - train_data['MQ135_analog']\n",
    "\n",
    "test_data['Alpha_Beta_Ratio'] = test_data['MQ7_analog'] / (test_data['MQ9_analog'] + 1e-6)\n",
    "test_data['Beta_Charlie_Diff'] = test_data['MQ9_analog'] - test_data['MG811_analog']\n",
    "test_data['MG811_MQ135_Diff'] = test_data['MG811_analog'] - test_data['MQ135_analog']"
   ]
  },
  {
   "cell_type": "markdown",
   "id": "c1e61c5c-e56b-4f85-9bd9-65b6318bf797",
   "metadata": {},
   "source": [
    "## Step 5: Train-Validation Split\n",
    "Split the training data into training and validation sets to evaluate model performance. This separation is crucial for training machine learning models, ensuring a clear distinction between inputs and outputs."
   ]
  },
  {
   "cell_type": "markdown",
   "id": "6fe81f5e-3fe4-4262-a3de-de73114811b0",
   "metadata": {},
   "source": [
    "## 🎯 Splitting Features and Target 📋\n",
    "\n",
    "We separate the dataset into:\n",
    "\n",
    "- **`X`**: The input features excluding ID, CO2, and device_name columns 🔢.\n",
    "- **`y`**: The target variable, **CO2**, which we aim to predict 🌟.\n",
    "\n",
    "This separation is crucial for training machine learning models, ensuring a clear distinction between inputs and outputs. 🚀"
   ]
  },
  {
   "cell_type": "code",
   "execution_count": 17,
   "id": "a714606d-5f61-42b5-aa61-1cfd2cc01906",
   "metadata": {},
   "outputs": [],
   "source": [
    "# Define features and target\n",
    "X = train_data.drop(columns=['ID', 'CO2', 'device_name'])\n",
    "y = train_data['CO2']\n"
   ]
  },
  {
   "cell_type": "markdown",
   "id": "7701eb4f-cd1b-4116-8e00-e5d9b7cc5693",
   "metadata": {},
   "source": [
    "## ✂️ Train-Test Split 🔀\n",
    "\n",
    "We divide the data into training and validation sets:\n",
    "\n",
    "- **`train_test_split()`**: Splits the data into:\n",
    "  - **`X_train`** & **`y_train`**: For training the model 🏋️.\n",
    "  - **`X_val`** & **`y_val`**: For evaluating the model's performance 📏.\n",
    "- **Parameters**:\n",
    "  - **`test_size=0.2`**: Reserves 20% of the data for validation 🧪.\n",
    "  - **`random_state=42`**: Ensures reproducibility with a fixed random seed 🔒.\n",
    "\n",
    "This step ensures the model is trained on one set of data and tested on another, reducing the risk of overfitting. 🚀"
   ]
  },
  {
   "cell_type": "code",
   "execution_count": 19,
   "id": "01e27680-46ca-46a1-b79b-22750c2ae3bb",
   "metadata": {},
   "outputs": [],
   "source": [
    "# Split into training and validation sets\n",
    "X_train, X_val, y_train, y_val = train_test_split(X, y, test_size=0.2, random_state=42)"
   ]
  },
  {
   "cell_type": "markdown",
   "id": "cc8fa1cb-2918-47ea-b864-f08984ce86ec",
   "metadata": {},
   "source": [
    "## Step 6: Baseline Model\n",
    "Start with a simple model (e.g. Random Forest) to establish a baseline RMSE."
   ]
  },
  {
   "cell_type": "markdown",
   "id": "16efd1c7-9ed7-4158-8215-6b57876e18f3",
   "metadata": {},
   "source": [
    "## Random Forest🚀\n",
    "\n",
    "We train a **Random Forest Regressor** to predict CO2 levels:\n",
    "\n",
    "- **`RandomForestRegressor`**: A powerful ensemble-based model that combines multiple decision trees 🌟.\n",
    "- **Parameters**:\n",
    "  - **`random_state=42`**: Ensures reproducibility by setting a fixed random seed 🔒.\n",
    "  - **`n_estimators=100`**: Uses 100 trees in the forest for robust predictions 🌲.\n",
    "\n",
    "- **`fit(X_train, y_train)`**: Trains the model on the training dataset 🏋️.\n",
    "\n",
    "This model is well-suited for handling complex patterns in data while reducing overfitting risks. 🌟"
   ]
  },
  {
   "cell_type": "code",
   "execution_count": 22,
   "id": "ae641118-c548-47a6-8300-62cefa4f12eb",
   "metadata": {},
   "outputs": [
    {
     "data": {
      "text/html": [
       "<style>#sk-container-id-1 {color: black;background-color: white;}#sk-container-id-1 pre{padding: 0;}#sk-container-id-1 div.sk-toggleable {background-color: white;}#sk-container-id-1 label.sk-toggleable__label {cursor: pointer;display: block;width: 100%;margin-bottom: 0;padding: 0.3em;box-sizing: border-box;text-align: center;}#sk-container-id-1 label.sk-toggleable__label-arrow:before {content: \"▸\";float: left;margin-right: 0.25em;color: #696969;}#sk-container-id-1 label.sk-toggleable__label-arrow:hover:before {color: black;}#sk-container-id-1 div.sk-estimator:hover label.sk-toggleable__label-arrow:before {color: black;}#sk-container-id-1 div.sk-toggleable__content {max-height: 0;max-width: 0;overflow: hidden;text-align: left;background-color: #f0f8ff;}#sk-container-id-1 div.sk-toggleable__content pre {margin: 0.2em;color: black;border-radius: 0.25em;background-color: #f0f8ff;}#sk-container-id-1 input.sk-toggleable__control:checked~div.sk-toggleable__content {max-height: 200px;max-width: 100%;overflow: auto;}#sk-container-id-1 input.sk-toggleable__control:checked~label.sk-toggleable__label-arrow:before {content: \"▾\";}#sk-container-id-1 div.sk-estimator input.sk-toggleable__control:checked~label.sk-toggleable__label {background-color: #d4ebff;}#sk-container-id-1 div.sk-label input.sk-toggleable__control:checked~label.sk-toggleable__label {background-color: #d4ebff;}#sk-container-id-1 input.sk-hidden--visually {border: 0;clip: rect(1px 1px 1px 1px);clip: rect(1px, 1px, 1px, 1px);height: 1px;margin: -1px;overflow: hidden;padding: 0;position: absolute;width: 1px;}#sk-container-id-1 div.sk-estimator {font-family: monospace;background-color: #f0f8ff;border: 1px dotted black;border-radius: 0.25em;box-sizing: border-box;margin-bottom: 0.5em;}#sk-container-id-1 div.sk-estimator:hover {background-color: #d4ebff;}#sk-container-id-1 div.sk-parallel-item::after {content: \"\";width: 100%;border-bottom: 1px solid gray;flex-grow: 1;}#sk-container-id-1 div.sk-label:hover label.sk-toggleable__label {background-color: #d4ebff;}#sk-container-id-1 div.sk-serial::before {content: \"\";position: absolute;border-left: 1px solid gray;box-sizing: border-box;top: 0;bottom: 0;left: 50%;z-index: 0;}#sk-container-id-1 div.sk-serial {display: flex;flex-direction: column;align-items: center;background-color: white;padding-right: 0.2em;padding-left: 0.2em;position: relative;}#sk-container-id-1 div.sk-item {position: relative;z-index: 1;}#sk-container-id-1 div.sk-parallel {display: flex;align-items: stretch;justify-content: center;background-color: white;position: relative;}#sk-container-id-1 div.sk-item::before, #sk-container-id-1 div.sk-parallel-item::before {content: \"\";position: absolute;border-left: 1px solid gray;box-sizing: border-box;top: 0;bottom: 0;left: 50%;z-index: -1;}#sk-container-id-1 div.sk-parallel-item {display: flex;flex-direction: column;z-index: 1;position: relative;background-color: white;}#sk-container-id-1 div.sk-parallel-item:first-child::after {align-self: flex-end;width: 50%;}#sk-container-id-1 div.sk-parallel-item:last-child::after {align-self: flex-start;width: 50%;}#sk-container-id-1 div.sk-parallel-item:only-child::after {width: 0;}#sk-container-id-1 div.sk-dashed-wrapped {border: 1px dashed gray;margin: 0 0.4em 0.5em 0.4em;box-sizing: border-box;padding-bottom: 0.4em;background-color: white;}#sk-container-id-1 div.sk-label label {font-family: monospace;font-weight: bold;display: inline-block;line-height: 1.2em;}#sk-container-id-1 div.sk-label-container {text-align: center;}#sk-container-id-1 div.sk-container {/* jupyter's `normalize.less` sets `[hidden] { display: none; }` but bootstrap.min.css set `[hidden] { display: none !important; }` so we also need the `!important` here to be able to override the default hidden behavior on the sphinx rendered scikit-learn.org. See: https://github.com/scikit-learn/scikit-learn/issues/21755 */display: inline-block !important;position: relative;}#sk-container-id-1 div.sk-text-repr-fallback {display: none;}</style><div id=\"sk-container-id-1\" class=\"sk-top-container\"><div class=\"sk-text-repr-fallback\"><pre>RandomForestRegressor(random_state=42)</pre><b>In a Jupyter environment, please rerun this cell to show the HTML representation or trust the notebook. <br />On GitHub, the HTML representation is unable to render, please try loading this page with nbviewer.org.</b></div><div class=\"sk-container\" hidden><div class=\"sk-item\"><div class=\"sk-estimator sk-toggleable\"><input class=\"sk-toggleable__control sk-hidden--visually\" id=\"sk-estimator-id-1\" type=\"checkbox\" checked><label for=\"sk-estimator-id-1\" class=\"sk-toggleable__label sk-toggleable__label-arrow\">RandomForestRegressor</label><div class=\"sk-toggleable__content\"><pre>RandomForestRegressor(random_state=42)</pre></div></div></div></div></div>"
      ],
      "text/plain": [
       "RandomForestRegressor(random_state=42)"
      ]
     },
     "execution_count": 22,
     "metadata": {},
     "output_type": "execute_result"
    }
   ],
   "source": [
    "# Train Random Forest model\n",
    "rf_model = RandomForestRegressor(random_state=42, n_estimators=100)\n",
    "rf_model.fit(X_train, y_train)"
   ]
  },
  {
   "cell_type": "markdown",
   "id": "e27bb8ba-dee4-44e5-badc-47473a57e8f9",
   "metadata": {},
   "source": [
    "## Step 7: Advanced Model\n",
    "Experiment with gradient boosting models like XGBoost for better performance."
   ]
  },
  {
   "cell_type": "code",
   "execution_count": 24,
   "id": "92a9927a-190f-430b-8655-834fa2093ddb",
   "metadata": {
    "scrolled": true
   },
   "outputs": [
    {
     "data": {
      "text/html": [
       "<style>#sk-container-id-2 {color: black;background-color: white;}#sk-container-id-2 pre{padding: 0;}#sk-container-id-2 div.sk-toggleable {background-color: white;}#sk-container-id-2 label.sk-toggleable__label {cursor: pointer;display: block;width: 100%;margin-bottom: 0;padding: 0.3em;box-sizing: border-box;text-align: center;}#sk-container-id-2 label.sk-toggleable__label-arrow:before {content: \"▸\";float: left;margin-right: 0.25em;color: #696969;}#sk-container-id-2 label.sk-toggleable__label-arrow:hover:before {color: black;}#sk-container-id-2 div.sk-estimator:hover label.sk-toggleable__label-arrow:before {color: black;}#sk-container-id-2 div.sk-toggleable__content {max-height: 0;max-width: 0;overflow: hidden;text-align: left;background-color: #f0f8ff;}#sk-container-id-2 div.sk-toggleable__content pre {margin: 0.2em;color: black;border-radius: 0.25em;background-color: #f0f8ff;}#sk-container-id-2 input.sk-toggleable__control:checked~div.sk-toggleable__content {max-height: 200px;max-width: 100%;overflow: auto;}#sk-container-id-2 input.sk-toggleable__control:checked~label.sk-toggleable__label-arrow:before {content: \"▾\";}#sk-container-id-2 div.sk-estimator input.sk-toggleable__control:checked~label.sk-toggleable__label {background-color: #d4ebff;}#sk-container-id-2 div.sk-label input.sk-toggleable__control:checked~label.sk-toggleable__label {background-color: #d4ebff;}#sk-container-id-2 input.sk-hidden--visually {border: 0;clip: rect(1px 1px 1px 1px);clip: rect(1px, 1px, 1px, 1px);height: 1px;margin: -1px;overflow: hidden;padding: 0;position: absolute;width: 1px;}#sk-container-id-2 div.sk-estimator {font-family: monospace;background-color: #f0f8ff;border: 1px dotted black;border-radius: 0.25em;box-sizing: border-box;margin-bottom: 0.5em;}#sk-container-id-2 div.sk-estimator:hover {background-color: #d4ebff;}#sk-container-id-2 div.sk-parallel-item::after {content: \"\";width: 100%;border-bottom: 1px solid gray;flex-grow: 1;}#sk-container-id-2 div.sk-label:hover label.sk-toggleable__label {background-color: #d4ebff;}#sk-container-id-2 div.sk-serial::before {content: \"\";position: absolute;border-left: 1px solid gray;box-sizing: border-box;top: 0;bottom: 0;left: 50%;z-index: 0;}#sk-container-id-2 div.sk-serial {display: flex;flex-direction: column;align-items: center;background-color: white;padding-right: 0.2em;padding-left: 0.2em;position: relative;}#sk-container-id-2 div.sk-item {position: relative;z-index: 1;}#sk-container-id-2 div.sk-parallel {display: flex;align-items: stretch;justify-content: center;background-color: white;position: relative;}#sk-container-id-2 div.sk-item::before, #sk-container-id-2 div.sk-parallel-item::before {content: \"\";position: absolute;border-left: 1px solid gray;box-sizing: border-box;top: 0;bottom: 0;left: 50%;z-index: -1;}#sk-container-id-2 div.sk-parallel-item {display: flex;flex-direction: column;z-index: 1;position: relative;background-color: white;}#sk-container-id-2 div.sk-parallel-item:first-child::after {align-self: flex-end;width: 50%;}#sk-container-id-2 div.sk-parallel-item:last-child::after {align-self: flex-start;width: 50%;}#sk-container-id-2 div.sk-parallel-item:only-child::after {width: 0;}#sk-container-id-2 div.sk-dashed-wrapped {border: 1px dashed gray;margin: 0 0.4em 0.5em 0.4em;box-sizing: border-box;padding-bottom: 0.4em;background-color: white;}#sk-container-id-2 div.sk-label label {font-family: monospace;font-weight: bold;display: inline-block;line-height: 1.2em;}#sk-container-id-2 div.sk-label-container {text-align: center;}#sk-container-id-2 div.sk-container {/* jupyter's `normalize.less` sets `[hidden] { display: none; }` but bootstrap.min.css set `[hidden] { display: none !important; }` so we also need the `!important` here to be able to override the default hidden behavior on the sphinx rendered scikit-learn.org. See: https://github.com/scikit-learn/scikit-learn/issues/21755 */display: inline-block !important;position: relative;}#sk-container-id-2 div.sk-text-repr-fallback {display: none;}</style><div id=\"sk-container-id-2\" class=\"sk-top-container\"><div class=\"sk-text-repr-fallback\"><pre>XGBRegressor(base_score=None, booster=None, callbacks=None,\n",
       "             colsample_bylevel=None, colsample_bynode=None,\n",
       "             colsample_bytree=None, device=None, early_stopping_rounds=None,\n",
       "             enable_categorical=False, eval_metric=None, feature_types=None,\n",
       "             gamma=None, grow_policy=None, importance_type=None,\n",
       "             interaction_constraints=None, learning_rate=None, max_bin=None,\n",
       "             max_cat_threshold=None, max_cat_to_onehot=None,\n",
       "             max_delta_step=None, max_depth=None, max_leaves=None,\n",
       "             min_child_weight=None, missing=nan, monotone_constraints=None,\n",
       "             multi_strategy=None, n_estimators=100, n_jobs=None,\n",
       "             num_parallel_tree=None, random_state=42, ...)</pre><b>In a Jupyter environment, please rerun this cell to show the HTML representation or trust the notebook. <br />On GitHub, the HTML representation is unable to render, please try loading this page with nbviewer.org.</b></div><div class=\"sk-container\" hidden><div class=\"sk-item\"><div class=\"sk-estimator sk-toggleable\"><input class=\"sk-toggleable__control sk-hidden--visually\" id=\"sk-estimator-id-2\" type=\"checkbox\" checked><label for=\"sk-estimator-id-2\" class=\"sk-toggleable__label sk-toggleable__label-arrow\">XGBRegressor</label><div class=\"sk-toggleable__content\"><pre>XGBRegressor(base_score=None, booster=None, callbacks=None,\n",
       "             colsample_bylevel=None, colsample_bynode=None,\n",
       "             colsample_bytree=None, device=None, early_stopping_rounds=None,\n",
       "             enable_categorical=False, eval_metric=None, feature_types=None,\n",
       "             gamma=None, grow_policy=None, importance_type=None,\n",
       "             interaction_constraints=None, learning_rate=None, max_bin=None,\n",
       "             max_cat_threshold=None, max_cat_to_onehot=None,\n",
       "             max_delta_step=None, max_depth=None, max_leaves=None,\n",
       "             min_child_weight=None, missing=nan, monotone_constraints=None,\n",
       "             multi_strategy=None, n_estimators=100, n_jobs=None,\n",
       "             num_parallel_tree=None, random_state=42, ...)</pre></div></div></div></div></div>"
      ],
      "text/plain": [
       "XGBRegressor(base_score=None, booster=None, callbacks=None,\n",
       "             colsample_bylevel=None, colsample_bynode=None,\n",
       "             colsample_bytree=None, device=None, early_stopping_rounds=None,\n",
       "             enable_categorical=False, eval_metric=None, feature_types=None,\n",
       "             gamma=None, grow_policy=None, importance_type=None,\n",
       "             interaction_constraints=None, learning_rate=None, max_bin=None,\n",
       "             max_cat_threshold=None, max_cat_to_onehot=None,\n",
       "             max_delta_step=None, max_depth=None, max_leaves=None,\n",
       "             min_child_weight=None, missing=nan, monotone_constraints=None,\n",
       "             multi_strategy=None, n_estimators=100, n_jobs=None,\n",
       "             num_parallel_tree=None, random_state=42, ...)"
      ]
     },
     "execution_count": 24,
     "metadata": {},
     "output_type": "execute_result"
    }
   ],
   "source": [
    "# Train XGBoost model\n",
    "xgb_model = XGBRegressor(random_state=42, n_estimators=100)\n",
    "xgb_model.fit(X_train, y_train)"
   ]
  },
  {
   "cell_type": "markdown",
   "id": "dd1ba9f8-4ab7-4fbc-b0e9-20dfb28a044b",
   "metadata": {},
   "source": [
    "## Step 8: Validation and Cross-Validation\n",
    "\n",
    "#### 🧪 Model Validation 📏\n",
    "\n",
    "We evaluate the trained model's performance on the validation set:\n",
    "\n",
    "- **`model.predict(X_val)`**: Generates predictions for the validation data 🔮.\n",
    "- **`mean_squared_error(y_val, val_predictions)`**: Computes the Mean Squared Error (MSE) between actual and predicted values 🧮.\n",
    "- **`np.sqrt()`**: Calculates the Root Mean Squared Error (RMSE) for easier interpretation 🔢.\n",
    "\n",
    "- **Output**:\n",
    "  - The **Validation RMSE** indicates how well the model predicts CO2 levels on unseen data. Lower values are better! 📉\n",
    "\n",
    "This step helps assess model accuracy and identify areas for improvement. 🚀"
   ]
  },
  {
   "cell_type": "code",
   "execution_count": 26,
   "id": "45f6593c-bb56-49c2-ae31-149178437389",
   "metadata": {},
   "outputs": [
    {
     "name": "stdout",
     "output_type": "stream",
     "text": [
      "Random Forest Validation RMSE: 5.03\n",
      "XGBoost Validation RMSE: 5.47\n"
     ]
    }
   ],
   "source": [
    "# Evaluate on validation set\n",
    "y_pred_rf = rf_model.predict(X_val)\n",
    "rmse_rf = np.sqrt(mean_squared_error(y_val, y_pred_rf))\n",
    "print(f'Random Forest Validation RMSE: {rmse_rf:.2f}')\n",
    "\n",
    "y_pred_xgb = xgb_model.predict(X_val)\n",
    "rmse_xgb = np.sqrt(mean_squared_error(y_val, y_pred_xgb))\n",
    "print(f'XGBoost Validation RMSE: {rmse_xgb:.2f}')"
   ]
  },
  {
   "cell_type": "markdown",
   "id": "f477fcc5-22d4-48c0-bfe1-89b503daf31b",
   "metadata": {},
   "source": [
    "## Cross-Validation\n",
    "This code performs k-fold cross-validation on a machine learning model using the following steps:\n",
    "\n",
    "- **`KFold(n_splits=5, shuffle=True, random_state=42)`**: This line initializes a KFold object from the `sklearn.model_selection` module. It specifies that the dataset will be split into 5 folds (`n_splits=5`). The `shuffle=True` argument ensures that the data is shuffled before splitting, and `random_state=42` sets a seed for reproducibility.\n",
    "- **`cross_val_score(xgb_model, X, y, scoring='neg_mean_squared_error', cv=kf)`**: This line calls the `cross_val_score` function to evaluate the model (`xgb_model`) using cross-validation. It takes the features (`X`) and target variable (`y`) as inputs. The `scoring='neg_mean_squared_error'` argument specifies that the negative mean squared error will be used as the scoring metric. The `cv=kf` argument indicates that the KFold object defined earlier will be used for splitting the data.\n",
    "- **`cv_rmse = np.sqrt(-cv_scores)`**: This line calculates the root mean squared error (RMSE) from the cross-validation scores. Since the scores are negative (as specified in the scoring), it negates them and then takes the square root to obtain the RMSE.\n",
    "\n",
    "\n",
    "This step helps in determining the mean RMSE and the standard deviation of the RMSE across the folds as well as providing an indication of the model's performance and variability."
   ]
  },
  {
   "cell_type": "code",
   "execution_count": 28,
   "id": "9480c809-cc97-46fd-90a8-787f177488c8",
   "metadata": {},
   "outputs": [
    {
     "name": "stdout",
     "output_type": "stream",
     "text": [
      "XGB Cross-Validation RMSE: 5.773160671869993 ± 0.3486451441037884\n"
     ]
    }
   ],
   "source": [
    "# Perform k-fold cross-validation XGBoost\n",
    "kf = KFold(n_splits=5, shuffle=True, random_state=42)\n",
    "xgb_cv_scores = cross_val_score(xgb_model, X, y, scoring='neg_mean_squared_error', cv=kf)\n",
    "xgb_cv_rmse = np.sqrt(-xgb_cv_scores)\n",
    "print(f'XGB Cross-Validation RMSE: {xgb_cv_rmse.mean()} ± {xgb_cv_rmse.std()}')"
   ]
  },
  {
   "cell_type": "code",
   "execution_count": 29,
   "id": "a2fbda0d-b7a0-406e-a612-975fc384dc6b",
   "metadata": {},
   "outputs": [
    {
     "name": "stdout",
     "output_type": "stream",
     "text": [
      "Random Forest Cross-Validation RMSE: 5.37920326890765 ± 0.35407870866507957\n"
     ]
    }
   ],
   "source": [
    "# Perform k-fold cross-validation for Random Forest\n",
    "kf = KFold(n_splits=5, shuffle=True, random_state=42)\n",
    "rf_cv_scores = cross_val_score(rf_model, X, y, scoring='neg_mean_squared_error', cv=kf)\n",
    "rf_cv_rmse = np.sqrt(-rf_cv_scores)\n",
    "print(f'Random Forest Cross-Validation RMSE: {rf_cv_rmse.mean()} ± {rf_cv_rmse.std()}')"
   ]
  },
  {
   "cell_type": "markdown",
   "id": "d1493e10-e1bf-4866-89a9-8cfee86f7238",
   "metadata": {},
   "source": [
    "## Step 9: Generate Predictions\n",
    "Use the trained model that performed better, which is Random Forest, to predict CO2 levels for the test set and format the submission file."
   ]
  },
  {
   "cell_type": "code",
   "execution_count": 31,
   "id": "029183f2-6bae-47c8-8d2e-a463974e5080",
   "metadata": {},
   "outputs": [],
   "source": [
    "# Predict on test set\n",
    "test_X = test_data.drop(columns=['ID', 'device_name'])\n",
    "rf_test_predictions = rf_model.predict(test_X)"
   ]
  },
  {
   "cell_type": "markdown",
   "id": "1b545dc5-8e95-4791-9a86-fd458e530afc",
   "metadata": {},
   "source": [
    "## Step 10: Submission\n",
    "\n",
    "Format our predictions for submission to the Zindi competition:\n",
    "\n",
    "- sample_submission['CO2']: Updates the CO2 column with the predicted values from the test dataset 🌟.\n",
    "\n",
    "- to_csv('submission.csv', index=False): Saves the updated dataframe as a CSV file named submission.csv 📁.\n",
    "\n",
    "- Output:\n",
    "\n",
    "Prints a confirmation message: \"Submission file created successfully!."
   ]
  },
  {
   "cell_type": "code",
   "execution_count": 33,
   "id": "bd34e165-84ea-4e42-90f6-db25490aa86d",
   "metadata": {},
   "outputs": [
    {
     "name": "stdout",
     "output_type": "stream",
     "text": [
      "Submission file created successfully!\n"
     ]
    }
   ],
   "source": [
    "# Create submission file\n",
    "submission = pd.DataFrame({'ID': test_data['ID'], 'CO2': rf_test_predictions})\n",
    "submission.to_csv('submission.csv', index=False)\n",
    "\n",
    "print(\"Submission file created successfully!\")"
   ]
  },
  {
   "cell_type": "code",
   "execution_count": null,
   "id": "b634ddbe-7a70-45a8-a76e-1a81bb81dd09",
   "metadata": {},
   "outputs": [],
   "source": []
  }
 ],
 "metadata": {
  "kernelspec": {
   "display_name": "Python [conda env:base] *",
   "language": "python",
   "name": "conda-base-py"
  },
  "language_info": {
   "codemirror_mode": {
    "name": "ipython",
    "version": 3
   },
   "file_extension": ".py",
   "mimetype": "text/x-python",
   "name": "python",
   "nbconvert_exporter": "python",
   "pygments_lexer": "ipython3",
   "version": "3.11.7"
  }
 },
 "nbformat": 4,
 "nbformat_minor": 5
}
